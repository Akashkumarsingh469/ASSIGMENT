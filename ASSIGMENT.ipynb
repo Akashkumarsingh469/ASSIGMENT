{
  "nbformat": 4,
  "nbformat_minor": 0,
  "metadata": {
    "colab": {
      "provenance": []
    },
    "kernelspec": {
      "name": "python3",
      "display_name": "Python 3"
    },
    "language_info": {
      "name": "python"
    }
  },
  "cells": [
    {
      "cell_type": "code",
      "execution_count": 4,
      "metadata": {
        "id": "bdhg7h8hXXUu"
      },
      "outputs": [],
      "source": []
    },
    {
      "cell_type": "markdown",
      "source": [
        "1. What is Python, and why is it popular?\n",
        "\n",
        "ANS : Python is a high-level, interpreted programming language known for its simple syntax and readability. It is popular because it supports multiple paradigms (procedural, object-oriented, functional), has a large standard library, strong community support, and is widely used in data science, web development, automation, and more."
      ],
      "metadata": {
        "id": "3aTo7W-CXYAg"
      }
    },
    {
      "cell_type": "markdown",
      "source": [
        "2. What is an interpreter in Python?\n",
        "ANS :\n",
        "An interpreter is a program that reads and executes Python code line by line, converting it into machine"
      ],
      "metadata": {
        "id": "FOdevqLMYOm2"
      }
    },
    {
      "cell_type": "markdown",
      "source": [
        "3. What are pre-defined keywords in Python?\n",
        "ANS :\n",
        "\n",
        "Keywords are reserved words in Python that have special meaning and cannot be used as identifiers (e.g., if, else, while, import, etc.)."
      ],
      "metadata": {
        "id": "OKkOfHe-YR4C"
      }
    },
    {
      "cell_type": "markdown",
      "source": [
        "4. Can keywords be used as variable names?\n",
        "No, keywords cannot be used as variable names because they are reserved for specific syntactic use."
      ],
      "metadata": {
        "id": "SxtVS0K6YWa1"
      }
    },
    {
      "cell_type": "markdown",
      "source": [],
      "metadata": {
        "id": "T9JiN1i4Y7lF"
      }
    },
    {
      "cell_type": "markdown",
      "source": [
        "5. What is mutability in Python?\n",
        "Mutability refers to whether an object can be changed after it is created. Mutable objects can be changed; immutable ones cannot."
      ],
      "metadata": {
        "id": "rHc5_E3zYZm-"
      }
    },
    {
      "cell_type": "markdown",
      "source": [
        "6. Why are lists mutable, but tuples are immutable?\n",
        "Lists are designed to be flexible and allow modifications, while tuples are intended for fixed data collections and thus do not support modification after creation."
      ],
      "metadata": {
        "id": "niZtB8slYcBm"
      }
    },
    {
      "cell_type": "markdown",
      "source": [
        "7. What is the difference between “==” and “is” operators in Python?\n",
        "== checks value equality (whether values are the same).\n",
        "\n",
        "is checks identity (whether they are the same object in memory)."
      ],
      "metadata": {
        "id": "7jGNEcTKYeFm"
      }
    },
    {
      "cell_type": "markdown",
      "source": [
        "8. What are logical operators in Python?\n",
        "Logical operators are:\n",
        "\n",
        "and: returns True if both conditions are True\n",
        "\n",
        "or: returns True if at least one condition is True\n",
        "\n",
        "not: inverts the boolean value"
      ],
      "metadata": {
        "id": "-YDxUg08YenQ"
      }
    },
    {
      "cell_type": "markdown",
      "source": [
        "9. What is type casting in Python?\n",
        "Type casting is converting one data type into another, such as from int to float, str to int, etc."
      ],
      "metadata": {
        "id": "j0ZgTuivYgzK"
      }
    },
    {
      "cell_type": "markdown",
      "source": [
        "10. What is the difference between implicit and explicit type casting?\n",
        "Implicit: Done automatically by Python.\n",
        "\n",
        "Explicit: Manually done using functions like int(), float(), str(), etc."
      ],
      "metadata": {
        "id": "MCHBcbR8YjM2"
      }
    },
    {
      "cell_type": "markdown",
      "source": [
        "11. What is the purpose of conditional statements in Python?\n",
        "They allow decisions in code execution based on conditions, helping create branching logic."
      ],
      "metadata": {
        "id": "GVJ0RSiXYmkt"
      }
    },
    {
      "cell_type": "markdown",
      "source": [
        "12. How does the elif statement work?\n",
        "elif stands for “else if.” It checks another condition if previous conditions were False.\n"
      ],
      "metadata": {
        "id": "E5nAyoMnYnWl"
      }
    },
    {
      "cell_type": "markdown",
      "source": [
        "13. What is the difference between for and while loops?\n",
        "for is used when the number of iterations is known.\n",
        "\n",
        "while is used when the loop should continue until a condition becomes False.\n"
      ],
      "metadata": {
        "id": "5j5ThXWjY9SM"
      }
    },
    {
      "cell_type": "markdown",
      "source": [
        "14. Describe a scenario where a while loop is more suitable than a for loop.\n",
        "When reading user input until a specific value is entered, a while loop is better since the number of iterations isn't known in advance."
      ],
      "metadata": {
        "id": "Oe_G4RZsZCAc"
      }
    },
    {
      "cell_type": "code",
      "source": [
        "print(\"Hello, World!\")\n"
      ],
      "metadata": {
        "colab": {
          "base_uri": "https://localhost:8080/"
        },
        "id": "tf9H54gOZDIV",
        "outputId": "ee1a0185-f34d-4f7a-e87f-0a271c1e44b5"
      },
      "execution_count": 5,
      "outputs": [
        {
          "output_type": "stream",
          "name": "stdout",
          "text": [
            "Hello, World!\n"
          ]
        }
      ]
    },
    {
      "cell_type": "code",
      "source": [
        "name = \"Alice\"\n",
        "age = 25\n",
        "print(f\"My name is {name} and I am {age} years old.\")\n"
      ],
      "metadata": {
        "colab": {
          "base_uri": "https://localhost:8080/"
        },
        "id": "V2GRsuK2ZGMf",
        "outputId": "ffa9fb20-d49f-4e31-dfb6-041e8077bc8b"
      },
      "execution_count": 6,
      "outputs": [
        {
          "output_type": "stream",
          "name": "stdout",
          "text": [
            "My name is Alice and I am 25 years old.\n"
          ]
        }
      ]
    },
    {
      "cell_type": "code",
      "source": [
        "import keyword\n",
        "print(keyword.kwlist)\n"
      ],
      "metadata": {
        "colab": {
          "base_uri": "https://localhost:8080/"
        },
        "id": "vUm0l8IyZNQP",
        "outputId": "5d0325c2-c5ad-462d-f260-a6c3b1c4d381"
      },
      "execution_count": 7,
      "outputs": [
        {
          "output_type": "stream",
          "name": "stdout",
          "text": [
            "['False', 'None', 'True', 'and', 'as', 'assert', 'async', 'await', 'break', 'class', 'continue', 'def', 'del', 'elif', 'else', 'except', 'finally', 'for', 'from', 'global', 'if', 'import', 'in', 'is', 'lambda', 'nonlocal', 'not', 'or', 'pass', 'raise', 'return', 'try', 'while', 'with', 'yield']\n"
          ]
        }
      ]
    },
    {
      "cell_type": "code",
      "source": [
        "import keyword\n",
        "word = input(\"Enter a word: \")\n",
        "print(f\"{word} is a keyword: {keyword.iskeyword(word)}\")\n"
      ],
      "metadata": {
        "colab": {
          "base_uri": "https://localhost:8080/"
        },
        "id": "shkxVO44ZPV-",
        "outputId": "b687f716-c4a5-4d35-e40b-51a80b32e9bb"
      },
      "execution_count": 8,
      "outputs": [
        {
          "output_type": "stream",
          "name": "stdout",
          "text": [
            "Enter a word: A\n",
            "A is a keyword: False\n"
          ]
        }
      ]
    },
    {
      "cell_type": "code",
      "source": [
        "my_list = [1, 2, 3]\n",
        "my_tuple = (1, 2, 3)\n",
        "\n",
        "my_list[0] = 10  # Works\n",
        "print(\"Modified list:\", my_list)\n",
        "\n",
        "try:\n",
        "    my_tuple[0] = 10  # Error\n",
        "except TypeError:\n",
        "    print(\"Cannot modify a tuple!\")\n"
      ],
      "metadata": {
        "colab": {
          "base_uri": "https://localhost:8080/"
        },
        "id": "WMS2PP2SZTBU",
        "outputId": "ab92423d-ce75-4b52-cbef-46228b4ca73e"
      },
      "execution_count": 9,
      "outputs": [
        {
          "output_type": "stream",
          "name": "stdout",
          "text": [
            "Modified list: [10, 2, 3]\n",
            "Cannot modify a tuple!\n"
          ]
        }
      ]
    },
    {
      "cell_type": "code",
      "source": [
        "def modify(x, y):\n",
        "    x += 1\n",
        "    y.append(4)\n",
        "    print(\"Inside function:\", x, y)\n",
        "\n",
        "a = 10\n",
        "b = [1, 2, 3]\n",
        "modify(a, b)\n",
        "print(\"Outside function:\", a, b)  # a is unchanged (immutable), b is changed (mutable)\n"
      ],
      "metadata": {
        "colab": {
          "base_uri": "https://localhost:8080/"
        },
        "id": "uAX3miK1ZWwm",
        "outputId": "a2788e02-d277-481b-f540-f3d7715590d1"
      },
      "execution_count": 10,
      "outputs": [
        {
          "output_type": "stream",
          "name": "stdout",
          "text": [
            "Inside function: 11 [1, 2, 3, 4]\n",
            "Outside function: 10 [1, 2, 3, 4]\n"
          ]
        }
      ]
    },
    {
      "cell_type": "code",
      "source": [
        "a = float(input(\"Enter first number: \"))\n",
        "b = float(input(\"Enter second number: \"))\n",
        "\n",
        "print(\"Addition:\", a + b)\n",
        "print(\"Subtraction:\", a - b)\n",
        "print(\"Multiplication:\", a * b)\n",
        "print(\"Division:\", a / b if b != 0 else \"Cannot divide by zero\")\n"
      ],
      "metadata": {
        "colab": {
          "base_uri": "https://localhost:8080/"
        },
        "id": "v0n1je9cZZSH",
        "outputId": "ead636ce-d440-4064-d625-1bd5ab5bf685"
      },
      "execution_count": 11,
      "outputs": [
        {
          "output_type": "stream",
          "name": "stdout",
          "text": [
            "Enter first number: 888\n",
            "Enter second number: 855\n",
            "Addition: 1743.0\n",
            "Subtraction: 33.0\n",
            "Multiplication: 759240.0\n",
            "Division: 1.03859649122807\n"
          ]
        }
      ]
    },
    {
      "cell_type": "code",
      "source": [
        "a = float(input(\"Enter first number: \"))\n",
        "b = float(input(\"Enter second number: \"))\n",
        "\n",
        "print(\"Addition:\", a + b)\n",
        "print(\"Subtraction:\", a - b)\n",
        "print(\"Multiplication:\", a * b)\n",
        "print(\"Division:\", a / b if b != 0 else \"Cannot divide by zero\")\n"
      ],
      "metadata": {
        "colab": {
          "base_uri": "https://localhost:8080/"
        },
        "id": "npGgT1uEZbMf",
        "outputId": "7219068e-6741-4bfc-d33e-b0fb447eddbf"
      },
      "execution_count": 12,
      "outputs": [
        {
          "output_type": "stream",
          "name": "stdout",
          "text": [
            "Enter first number: 65\n",
            "Enter second number: 45\n",
            "Addition: 110.0\n",
            "Subtraction: 20.0\n",
            "Multiplication: 2925.0\n",
            "Division: 1.4444444444444444\n"
          ]
        }
      ]
    },
    {
      "cell_type": "code",
      "source": [
        "a = 5\n",
        "b = 10\n",
        "print(a > 0 and b > 0)  # True\n",
        "print(a > 0 or b < 0)   # True\n",
        "print(not(a > 0))       # False\n"
      ],
      "metadata": {
        "colab": {
          "base_uri": "https://localhost:8080/"
        },
        "id": "e-m-c62cZefN",
        "outputId": "38310026-2b04-4e11-dd40-669c97a6c1d2"
      },
      "execution_count": 13,
      "outputs": [
        {
          "output_type": "stream",
          "name": "stdout",
          "text": [
            "True\n",
            "True\n",
            "False\n"
          ]
        }
      ]
    },
    {
      "cell_type": "code",
      "source": [
        "s = input(\"Enter a value: \")\n",
        "print(\"As integer:\", int(s))\n",
        "print(\"As float:\", float(s))\n",
        "print(\"As boolean:\", bool(s))\n"
      ],
      "metadata": {
        "colab": {
          "base_uri": "https://localhost:8080/"
        },
        "id": "mOB0DAGZZgL2",
        "outputId": "071a4407-decc-4353-8784-fc2d8c7e4bab"
      },
      "execution_count": 14,
      "outputs": [
        {
          "output_type": "stream",
          "name": "stdout",
          "text": [
            "Enter a value: 484\n",
            "As integer: 484\n",
            "As float: 484.0\n",
            "As boolean: True\n"
          ]
        }
      ]
    },
    {
      "cell_type": "code",
      "source": [
        "string_numbers = [\"1\", \"2\", \"3\"]\n",
        "int_numbers = list(map(int, string_numbers))\n",
        "print(int_numbers)\n"
      ],
      "metadata": {
        "colab": {
          "base_uri": "https://localhost:8080/"
        },
        "id": "FHOYL1o6ZiUd",
        "outputId": "903662e0-469f-4d41-ee21-c235b7c79fb0"
      },
      "execution_count": 15,
      "outputs": [
        {
          "output_type": "stream",
          "name": "stdout",
          "text": [
            "[1, 2, 3]\n"
          ]
        }
      ]
    },
    {
      "cell_type": "code",
      "source": [
        "num = float(input(\"Enter a number: \"))\n",
        "if num > 0:\n",
        "    print(\"Positive\")\n",
        "elif num < 0:\n",
        "    print(\"Negative\")\n",
        "else:\n",
        "    print(\"Zero\")\n"
      ],
      "metadata": {
        "colab": {
          "base_uri": "https://localhost:8080/"
        },
        "id": "Za0CX7a-ZlN1",
        "outputId": "bacab609-8f71-4667-fd2e-57aea7661703"
      },
      "execution_count": 16,
      "outputs": [
        {
          "output_type": "stream",
          "name": "stdout",
          "text": [
            "Enter a number: 451\n",
            "Positive\n"
          ]
        }
      ]
    },
    {
      "cell_type": "code",
      "source": [
        "for i in range(1, 11):\n",
        "    print(i)\n"
      ],
      "metadata": {
        "colab": {
          "base_uri": "https://localhost:8080/"
        },
        "id": "1ORxL_6iZlPf",
        "outputId": "d108bae6-e55c-49d6-ac76-4688227c8323"
      },
      "execution_count": 17,
      "outputs": [
        {
          "output_type": "stream",
          "name": "stdout",
          "text": [
            "1\n",
            "2\n",
            "3\n",
            "4\n",
            "5\n",
            "6\n",
            "7\n",
            "8\n",
            "9\n",
            "10\n"
          ]
        }
      ]
    },
    {
      "cell_type": "code",
      "source": [
        "even_sum = sum(i for i in range(1, 51) if i % 2 == 0)\n",
        "print(\"Sum of even numbers:\", even_sum)\n"
      ],
      "metadata": {
        "colab": {
          "base_uri": "https://localhost:8080/"
        },
        "id": "JMVjYJInZ0Qh",
        "outputId": "a10a8c67-e259-4dc2-9b3d-9a670a6b4bc3"
      },
      "execution_count": 18,
      "outputs": [
        {
          "output_type": "stream",
          "name": "stdout",
          "text": [
            "Sum of even numbers: 650\n"
          ]
        }
      ]
    },
    {
      "cell_type": "code",
      "source": [
        "s = input(\"Enter a string: \")\n",
        "i = len(s) - 1\n",
        "reversed_str = ''\n",
        "while i >= 0:\n",
        "    reversed_str += s[i]\n",
        "    i -= 1\n",
        "print(\"Reversed:\", reversed_str)\n"
      ],
      "metadata": {
        "colab": {
          "base_uri": "https://localhost:8080/"
        },
        "id": "4Y4Eu9zWZ2QF",
        "outputId": "bf513b67-f0cb-4652-d763-635d2c3a8784"
      },
      "execution_count": 19,
      "outputs": [
        {
          "output_type": "stream",
          "name": "stdout",
          "text": [
            "Enter a string: 45\n",
            "Reversed: 54\n"
          ]
        }
      ]
    },
    {
      "cell_type": "code",
      "source": [
        "num = int(input(\"Enter a number: \"))\n",
        "factorial = 1\n",
        "i = 1\n",
        "while i <= num:\n",
        "    factorial *= i\n",
        "    i += 1\n",
        "print(\"Factorial:\", factorial)\n"
      ],
      "metadata": {
        "colab": {
          "base_uri": "https://localhost:8080/"
        },
        "id": "Slsfm4pNZ2z0",
        "outputId": "e09c957c-de29-4c80-e302-7195bc83bfd8"
      },
      "execution_count": 20,
      "outputs": [
        {
          "output_type": "stream",
          "name": "stdout",
          "text": [
            "Enter a number: 556\n",
            "Factorial: 367743159875853837025867240921098006558068376175959905446619210878484984229545393921965012257888323238536824512933243118355360974323905023932519897960178050744154309023663376132977821958201291875888965201229276964028689972211176335969423308165218139315129538424462766609532363818012649788798603615414641183347137737269733454887535570825219963409724357498664851097379435988707733918182961949216983576217115860206930824851326559265923440841608899042860938411146348994625889682952026610587209613288778620576224626992886804106057047976413841872563909188957948482341506688191419788594005234887414617545588561794264380313669259617216186981914324905165883742917246944259709664584767218471269129985147480529732000602936388383796150509101694402057843200323375516790621664089491769718733776213145858124924178462083765853788984009782516571734154456406557476875448477255999367435198411094207571670028125546936966274383863323195480276273524645165599549877231629779589762610527146959224161952636913664211892494608104976519717497858334380855773895410604169393902125637082967565295655512605146127252211358927462186334433930913496659800779369958410459836960005003673600000000000000000000000000000000000000000000000000000000000000000000000000000000000000000000000000000000000000000000000000000000000000000\n"
          ]
        }
      ]
    }
  ]
}